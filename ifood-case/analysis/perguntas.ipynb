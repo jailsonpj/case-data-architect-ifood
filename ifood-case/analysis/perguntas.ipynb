{
 "cells": [
  {
   "cell_type": "markdown",
   "metadata": {
    "application/vnd.databricks.v1+cell": {
     "cellMetadata": {},
     "inputWidgets": {},
     "nuid": "83d20ffc-c5b3-468e-bfdb-404e2a4670f5",
     "showTitle": false,
     "tableResultSettingsMap": {},
     "title": ""
    }
   },
   "source": [
    "# Respostas as perguntas do Desafio Técnico."
   ]
  },
  {
   "cell_type": "markdown",
   "metadata": {
    "application/vnd.databricks.v1+cell": {
     "cellMetadata": {},
     "inputWidgets": {},
     "nuid": "d8d67b7e-16c3-40c5-a516-25d549c614f6",
     "showTitle": false,
     "tableResultSettingsMap": {},
     "title": ""
    }
   },
   "source": [
    "As perguntas para o desafio técnico consistem nas:\n",
    "\n",
    "1. Qual a média de valor total (total_amount) recebido em um mês considerando todos os yellow táxis da frota?\n",
    "\n",
    "2. Qual a média de passageiros (passenger\\_count) por cada hora do dia que pegaram táxi no mês de maio considerando todos os táxis da\n",
    "frota?"
   ]
  },
  {
   "cell_type": "code",
   "execution_count": 0,
   "metadata": {
    "application/vnd.databricks.v1+cell": {
     "cellMetadata": {
      "byteLimit": 2048000,
      "rowLimit": 10000
     },
     "inputWidgets": {},
     "nuid": "f72422cc-f012-426f-8997-0cfcc3d6b155",
     "showTitle": false,
     "tableResultSettingsMap": {},
     "title": ""
    }
   },
   "outputs": [],
   "source": [
    "from pyspark.sql.functions import year, month, avg, round, count, col, hour"
   ]
  },
  {
   "cell_type": "code",
   "execution_count": 0,
   "metadata": {
    "application/vnd.databricks.v1+cell": {
     "cellMetadata": {
      "byteLimit": 2048000,
      "rowLimit": 10000
     },
     "inputWidgets": {},
     "nuid": "90a77a3f-e6a2-4a11-96c3-6579a162bfcd",
     "showTitle": false,
     "tableResultSettingsMap": {},
     "title": ""
    }
   },
   "outputs": [],
   "source": [
    "class AnalysisTLC:\n",
    "    def __init__(self):\n",
    "        self.path_mount_enriched = \"/mnt/mount_enriched/\"\n",
    "\n",
    "    def read_files_parquet(self, file_input):\n",
    "        df = spark.read.parquet(file_input)\n",
    "        return df"
   ]
  },
  {
   "cell_type": "code",
   "execution_count": 0,
   "metadata": {
    "application/vnd.databricks.v1+cell": {
     "cellMetadata": {
      "byteLimit": 2048000,
      "rowLimit": 10000
     },
     "inputWidgets": {},
     "nuid": "b0ff94e4-3e5c-43e0-8e55-c8e2ee2893a8",
     "showTitle": false,
     "tableResultSettingsMap": {},
     "title": ""
    }
   },
   "outputs": [],
   "source": [
    "\n",
    "als = AnalysisTLC()\n",
    "\n",
    "color = 'yellow'\n",
    "path = als.path_mount_enriched + f\"{color}_taxi/metrics/taxi_trip/*.parquet\"\n",
    "df_yellow = als.read_files_parquet(path)\n",
    "\n",
    "color = 'green'\n",
    "path = als.path_mount_enriched + f\"{color}_taxi/metrics/taxi_trip/*.parquet\"\n",
    "df_green = als.read_files_parquet(path)\n"
   ]
  },
  {
   "cell_type": "code",
   "execution_count": 0,
   "metadata": {
    "application/vnd.databricks.v1+cell": {
     "cellMetadata": {
      "byteLimit": 2048000,
      "rowLimit": 10000
     },
     "inputWidgets": {},
     "nuid": "d71bfaa7-7cae-45b0-a360-e48c418d9c7a",
     "showTitle": false,
     "tableResultSettingsMap": {},
     "title": ""
    }
   },
   "outputs": [
    {
     "output_type": "stream",
     "name": "stdout",
     "output_type": "stream",
     "text": [
      "+---------+---------------+------------+--------------------+---------------------+\n|vendor_id|passenger_count|total_amount|tpep_pickup_datetime|tpep_dropoff_datetime|\n+---------+---------------+------------+--------------------+---------------------+\n|        2|              1|        16.0| 2023-03-01 00:25:10|  2023-03-01 00:35:47|\n|        2|              1|         9.0| 2023-03-01 00:14:29|  2023-03-01 00:25:04|\n|        2|              1|       16.68| 2023-02-28 22:59:46|  2023-02-28 23:08:38|\n|        2|              1|       25.02| 2023-03-01 00:54:03|  2023-03-01 01:03:14|\n|        2|              1|        29.8| 2023-03-01 01:00:09|  2023-03-01 01:14:37|\n|        2|              1|       24.24| 2023-03-01 00:09:45|  2023-03-01 00:26:06|\n|        2|              5|        37.0| 2023-03-01 00:39:30|  2023-03-01 00:39:33|\n|        2|              1|       24.44| 2023-03-01 00:03:07|  2023-03-01 00:14:44|\n|        2|              5|       15.84| 2023-03-01 00:42:56|  2023-03-01 00:49:57|\n|        2|              1|        9.12| 2023-03-01 01:13:10|  2023-03-01 01:15:50|\n+---------+---------------+------------+--------------------+---------------------+\nonly showing top 10 rows\n\n"
     ]
    }
   ],
   "source": [
    "df_green.show(10)"
   ]
  },
  {
   "cell_type": "markdown",
   "metadata": {
    "application/vnd.databricks.v1+cell": {
     "cellMetadata": {},
     "inputWidgets": {},
     "nuid": "cd8e5710-d677-4053-bee9-1aaec8b5f78d",
     "showTitle": false,
     "tableResultSettingsMap": {},
     "title": ""
    }
   },
   "source": [
    "## Pergunta 1 - Resolução\n",
    "\n"
   ]
  },
  {
   "cell_type": "markdown",
   "metadata": {
    "application/vnd.databricks.v1+cell": {
     "cellMetadata": {},
     "inputWidgets": {},
     "nuid": "af84040e-3297-4328-ab41-3afd35afef7b",
     "showTitle": false,
     "tableResultSettingsMap": {},
     "title": ""
    }
   },
   "source": [
    "### Objetivo Principal\n",
    "\n",
    "Esta query está calculando o valor médio das corridas (total_amount) por mês, considerando apenas os táxis amarelos que finalizaram suas corridas (dropoff) entre janeiro e maio de 2023."
   ]
  },
  {
   "cell_type": "code",
   "execution_count": 0,
   "metadata": {
    "application/vnd.databricks.v1+cell": {
     "cellMetadata": {
      "byteLimit": 2048000,
      "rowLimit": 10000
     },
     "inputWidgets": {},
     "nuid": "d55a420e-3adb-4182-9109-8665df8b1d7a",
     "showTitle": false,
     "tableResultSettingsMap": {},
     "title": ""
    }
   },
   "outputs": [],
   "source": [
    "resultado = (\n",
    "    df_yellow\n",
    "    .filter(\n",
    "        (year(\"tpep_dropoff_datetime\") == 2023) & \n",
    "        (month(\"tpep_dropoff_datetime\").between(1, 5))\n",
    "    )\n",
    "    .groupBy(\n",
    "        year(\"tpep_dropoff_datetime\").alias(\"ano\"),\n",
    "        month(\"tpep_dropoff_datetime\").alias(\"mes\")\n",
    "    )\n",
    "    .agg(\n",
    "        round(avg(\"total_amount\"), 2).alias(\"media_valor_total_mensal\")\n",
    "    )\n",
    "    .orderBy(\"ano\", \"mes\")\n",
    ")\n"
   ]
  },
  {
   "cell_type": "code",
   "execution_count": 0,
   "metadata": {
    "application/vnd.databricks.v1+cell": {
     "cellMetadata": {
      "byteLimit": 2048000,
      "rowLimit": 10000
     },
     "inputWidgets": {},
     "nuid": "9452c40e-4b26-401e-842e-a60fe19c3712",
     "showTitle": false,
     "tableResultSettingsMap": {},
     "title": ""
    }
   },
   "outputs": [
    {
     "output_type": "display_data",
     "data": {
      "text/html": [
       "<style scoped>\n",
       "  .table-result-container {\n",
       "    max-height: 300px;\n",
       "    overflow: auto;\n",
       "  }\n",
       "  table, th, td {\n",
       "    border: 1px solid black;\n",
       "    border-collapse: collapse;\n",
       "  }\n",
       "  th, td {\n",
       "    padding: 5px;\n",
       "  }\n",
       "  th {\n",
       "    text-align: left;\n",
       "  }\n",
       "</style><div class='table-result-container'><table class='table-result'><thead style='background-color: white'><tr><th>ano</th><th>mes</th><th>media_valor_total_mensal</th></tr></thead><tbody><tr><td>2023</td><td>1</td><td>27.44</td></tr><tr><td>2023</td><td>2</td><td>27.33</td></tr><tr><td>2023</td><td>3</td><td>28.26</td></tr><tr><td>2023</td><td>4</td><td>28.76</td></tr><tr><td>2023</td><td>5</td><td>29.46</td></tr></tbody></table></div>"
      ]
     },
     "metadata": {
      "application/vnd.databricks.v1+output": {
       "addedWidgets": {},
       "aggData": [],
       "aggError": "",
       "aggOverflow": false,
       "aggSchema": [],
       "aggSeriesLimitReached": false,
       "aggType": "",
       "arguments": {},
       "columnCustomDisplayInfos": {},
       "data": [
        [
         2023,
         1,
         27.44
        ],
        [
         2023,
         2,
         27.33
        ],
        [
         2023,
         3,
         28.26
        ],
        [
         2023,
         4,
         28.76
        ],
        [
         2023,
         5,
         29.46
        ]
       ],
       "datasetInfos": [],
       "dbfsResultPath": null,
       "isJsonSchema": true,
       "metadata": {},
       "overflow": false,
       "plotOptions": {
        "customPlotOptions": {},
        "displayType": "table",
        "pivotAggregation": null,
        "pivotColumns": null,
        "xColumns": null,
        "yColumns": null
       },
       "removedWidgets": [],
       "schema": [
        {
         "metadata": "{}",
         "name": "ano",
         "type": "\"integer\""
        },
        {
         "metadata": "{}",
         "name": "mes",
         "type": "\"integer\""
        },
        {
         "metadata": "{}",
         "name": "media_valor_total_mensal",
         "type": "\"double\""
        }
       ],
       "type": "table"
      }
     },
     "output_type": "display_data"
    }
   ],
   "source": [
    "resultado.display()"
   ]
  },
  {
   "cell_type": "markdown",
   "metadata": {
    "application/vnd.databricks.v1+cell": {
     "cellMetadata": {},
     "inputWidgets": {},
     "nuid": "c5abd83b-e1e9-4a72-a151-94466395030c",
     "showTitle": false,
     "tableResultSettingsMap": {},
     "title": ""
    }
   },
   "source": [
    "#### Pontos Importantes sobre o código\n",
    "\n",
    "1. Escolha do tpep_dropoff_datetime:\n",
    "    - Reflete quando o serviço foi realmente concluído\n",
    "    - Pode ser mais relevante para análises financeiras (momento do pagamento)\n",
    "\n",
    "2. Performance: \n",
    "    - Filtra primeiro (reduz dados antes do agrupamento)\n",
    "    - Usa funções nativas do Spark (year, month) otimizadas\n",
    "\n",
    "3. Escalabilidade: \n",
    "    - Funciona bem para grandes volumes de dados típicos em sistemas de táxi1"
   ]
  },
  {
   "cell_type": "markdown",
   "metadata": {
    "application/vnd.databricks.v1+cell": {
     "cellMetadata": {},
     "inputWidgets": {},
     "nuid": "c8fac662-95c9-4902-8b68-ae33c72d9fe6",
     "showTitle": false,
     "tableResultSettingsMap": {},
     "title": ""
    }
   },
   "source": [
    "## Pergunta 2 - Resolução"
   ]
  },
  {
   "cell_type": "markdown",
   "metadata": {
    "application/vnd.databricks.v1+cell": {
     "cellMetadata": {},
     "inputWidgets": {},
     "nuid": "93c8efb1-01e0-4604-99e3-b54b9ebef9eb",
     "showTitle": false,
     "tableResultSettingsMap": {},
     "title": ""
    }
   },
   "source": [
    "### Objetivo Principal\n",
    "\n",
    "Calcular a média de passageiros por hora do dia no mês de maio de 2023."
   ]
  },
  {
   "cell_type": "code",
   "execution_count": 0,
   "metadata": {
    "application/vnd.databricks.v1+cell": {
     "cellMetadata": {
      "byteLimit": 2048000,
      "rowLimit": 10000
     },
     "inputWidgets": {},
     "nuid": "d6cc8dba-87d3-4f72-8db1-640ac7b774a2",
     "showTitle": false,
     "tableResultSettingsMap": {},
     "title": ""
    }
   },
   "outputs": [],
   "source": [
    "df = df_yellow.union(df_green)"
   ]
  },
  {
   "cell_type": "code",
   "execution_count": 0,
   "metadata": {
    "application/vnd.databricks.v1+cell": {
     "cellMetadata": {
      "byteLimit": 2048000,
      "rowLimit": 10000
     },
     "inputWidgets": {},
     "nuid": "d11bd33a-0a0b-4814-8daa-9325debd1b42",
     "showTitle": false,
     "tableResultSettingsMap": {},
     "title": ""
    }
   },
   "outputs": [
    {
     "output_type": "stream",
     "name": "stdout",
     "output_type": "stream",
     "text": [
      "Média de passageiros por hora do dia em maio de 2023 para os táxis Yellow:\n"
     ]
    },
    {
     "output_type": "display_data",
     "data": {
      "text/html": [
       "<style scoped>\n",
       "  .table-result-container {\n",
       "    max-height: 300px;\n",
       "    overflow: auto;\n",
       "  }\n",
       "  table, th, td {\n",
       "    border: 1px solid black;\n",
       "    border-collapse: collapse;\n",
       "  }\n",
       "  th, td {\n",
       "    padding: 5px;\n",
       "  }\n",
       "  th {\n",
       "    text-align: left;\n",
       "  }\n",
       "</style><div class='table-result-container'><table class='table-result'><thead style='background-color: white'><tr><th>hora_do_dia</th><th>media_passageiros</th></tr></thead><tbody><tr><td>0</td><td>1.41</td></tr><tr><td>1</td><td>1.42</td></tr><tr><td>2</td><td>1.44</td></tr><tr><td>3</td><td>1.43</td></tr><tr><td>4</td><td>1.39</td></tr><tr><td>5</td><td>1.27</td></tr><tr><td>6</td><td>1.24</td></tr><tr><td>7</td><td>1.25</td></tr><tr><td>8</td><td>1.26</td></tr><tr><td>9</td><td>1.28</td></tr><tr><td>10</td><td>1.32</td></tr><tr><td>11</td><td>1.33</td></tr><tr><td>12</td><td>1.35</td></tr><tr><td>13</td><td>1.35</td></tr><tr><td>14</td><td>1.36</td></tr><tr><td>15</td><td>1.37</td></tr><tr><td>16</td><td>1.37</td></tr><tr><td>17</td><td>1.36</td></tr><tr><td>18</td><td>1.36</td></tr><tr><td>19</td><td>1.37</td></tr><tr><td>20</td><td>1.38</td></tr><tr><td>21</td><td>1.4</td></tr><tr><td>22</td><td>1.41</td></tr><tr><td>23</td><td>1.41</td></tr></tbody></table></div>"
      ]
     },
     "metadata": {
      "application/vnd.databricks.v1+output": {
       "addedWidgets": {},
       "aggData": [],
       "aggError": "",
       "aggOverflow": false,
       "aggSchema": [],
       "aggSeriesLimitReached": false,
       "aggType": "",
       "arguments": {},
       "columnCustomDisplayInfos": {},
       "data": [
        [
         0,
         1.41
        ],
        [
         1,
         1.42
        ],
        [
         2,
         1.44
        ],
        [
         3,
         1.43
        ],
        [
         4,
         1.39
        ],
        [
         5,
         1.27
        ],
        [
         6,
         1.24
        ],
        [
         7,
         1.25
        ],
        [
         8,
         1.26
        ],
        [
         9,
         1.28
        ],
        [
         10,
         1.32
        ],
        [
         11,
         1.33
        ],
        [
         12,
         1.35
        ],
        [
         13,
         1.35
        ],
        [
         14,
         1.36
        ],
        [
         15,
         1.37
        ],
        [
         16,
         1.37
        ],
        [
         17,
         1.36
        ],
        [
         18,
         1.36
        ],
        [
         19,
         1.37
        ],
        [
         20,
         1.38
        ],
        [
         21,
         1.4
        ],
        [
         22,
         1.41
        ],
        [
         23,
         1.41
        ]
       ],
       "datasetInfos": [],
       "dbfsResultPath": null,
       "isJsonSchema": true,
       "metadata": {},
       "overflow": false,
       "plotOptions": {
        "customPlotOptions": {},
        "displayType": "table",
        "pivotAggregation": null,
        "pivotColumns": null,
        "xColumns": null,
        "yColumns": null
       },
       "removedWidgets": [],
       "schema": [
        {
         "metadata": "{}",
         "name": "hora_do_dia",
         "type": "\"integer\""
        },
        {
         "metadata": "{}",
         "name": "media_passageiros",
         "type": "\"double\""
        }
       ],
       "type": "table"
      }
     },
     "output_type": "display_data"
    }
   ],
   "source": [
    "resultado = (\n",
    "    df\n",
    "    .filter(\n",
    "        (year(\"tpep_pickup_datetime\") == 2023) &\n",
    "        (month(\"tpep_pickup_datetime\") == 5)\n",
    "    )\n",
    "    .withColumn(\"hora_do_dia\", hour(\"tpep_pickup_datetime\"))\n",
    "    .groupBy(\"hora_do_dia\")\n",
    "    .agg(\n",
    "        round(avg(\"passenger_count\"), 2).alias(\"media_passageiros\")\n",
    "    )\n",
    "\n",
    "    .orderBy(\"hora_do_dia\")\n",
    ")\n",
    "\n",
    "print(\"Média de passageiros por hora do dia em maio de 2023 para os táxis Yellow:\")\n",
    "display(resultado)"
   ]
  },
  {
   "cell_type": "markdown",
   "metadata": {
    "application/vnd.databricks.v1+cell": {
     "cellMetadata": {},
     "inputWidgets": {},
     "nuid": "5d72be39-b285-4b1e-8152-405bb7489c57",
     "showTitle": false,
     "tableResultSettingsMap": {},
     "title": ""
    }
   },
   "source": [
    "#### Pontos Importantes sobre o Código\n",
    "\n",
    "1. Filtragem de dados: \n",
    "    - Foram considerados somente informações as quais corridas se iniciaram no mês de Maio. Para isso foi feito um filtro com a coluna `tpep_pickup_datetime`;\n",
    "\n",
    "2. Arredondamento de valores decimais para melhor legibilidade;\n"
   ]
  },
  {
   "cell_type": "code",
   "execution_count": 0,
   "metadata": {
    "application/vnd.databricks.v1+cell": {
     "cellMetadata": {},
     "inputWidgets": {},
     "nuid": "2eaea315-add8-4ddc-8884-40ee1cc5ed26",
     "showTitle": false,
     "tableResultSettingsMap": {},
     "title": ""
    }
   },
   "outputs": [],
   "source": []
  }
 ],
 "metadata": {
  "application/vnd.databricks.v1+notebook": {
   "computePreferences": null,
   "dashboards": [],
   "environmentMetadata": {
    "base_environment": "",
    "environment_version": "1"
   },
   "inputWidgetPreferences": null,
   "language": "python",
   "notebookMetadata": {
    "pythonIndentUnit": 4
   },
   "notebookName": "perguntas",
   "widgets": {}
  },
  "language_info": {
   "name": "python"
  }
 },
 "nbformat": 4,
 "nbformat_minor": 0
}