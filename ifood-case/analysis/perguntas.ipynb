{
 "cells": [
  {
   "cell_type": "markdown",
   "id": "9141ce1a",
   "metadata": {},
   "source": [
    "# Respostas as perguntas do Desafio Técnico."
   ]
  },
  {
   "cell_type": "markdown",
   "id": "2fd6c362",
   "metadata": {},
   "source": [
    "As perguntas para o desafio técnico consistem nas:\n",
    "\n",
    "1. Qual a média de valor total (total_amount) recebido em um mês considerando todos os yellow táxis da frota?\n",
    "\n",
    "2. Qual a média de passageiros (passenger\\_count) por cada hora do dia que pegaram táxi no mês de maio considerando todos os táxis da\n",
    "frota?"
   ]
  },
  {
   "cell_type": "markdown",
   "id": "d6dcf9cc",
   "metadata": {},
   "source": [
    "## Questão 1 - Resolução"
   ]
  },
  {
   "cell_type": "code",
   "execution_count": null,
   "id": "9fd388d4",
   "metadata": {},
   "outputs": [],
   "source": []
  }
 ],
 "metadata": {
  "language_info": {
   "name": "python"
  }
 },
 "nbformat": 4,
 "nbformat_minor": 5
}
